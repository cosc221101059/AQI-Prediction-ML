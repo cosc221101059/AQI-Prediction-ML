{
 "cells": [
  {
   "cell_type": "code",
   "execution_count": 1,
   "id": "19500e19-5dcf-4436-be7f-39ddd0fdccb2",
   "metadata": {},
   "outputs": [],
   "source": [
    "import pandas as pd\n",
    "import joblib\n",
    "import numpy as np"
   ]
  },
  {
   "cell_type": "code",
   "execution_count": 2,
   "id": "1efff592-c9e4-4da1-942a-1fcb0326e0c4",
   "metadata": {},
   "outputs": [
    {
     "ename": "FileNotFoundError",
     "evalue": "[Errno 2] No such file or directory: 'Linear_reg_Model/linear_regressor_model.pkl'",
     "output_type": "error",
     "traceback": [
      "\u001b[1;31m---------------------------------------------------------------------------\u001b[0m",
      "\u001b[1;31mFileNotFoundError\u001b[0m                         Traceback (most recent call last)",
      "Cell \u001b[1;32mIn[2], line 1\u001b[0m\n\u001b[1;32m----> 1\u001b[0m ModelLr \u001b[38;5;241m=\u001b[39m \u001b[43mjoblib\u001b[49m\u001b[38;5;241;43m.\u001b[39;49m\u001b[43mload\u001b[49m\u001b[43m(\u001b[49m\u001b[38;5;124;43mr\u001b[39;49m\u001b[38;5;124;43m'\u001b[39;49m\u001b[38;5;124;43mLinear_reg_Model/linear_regressor_model.pkl\u001b[39;49m\u001b[38;5;124;43m'\u001b[39;49m\u001b[43m)\u001b[49m  \u001b[38;5;66;03m# Linear regression model\u001b[39;00m\n\u001b[0;32m      2\u001b[0m Modelclassifier \u001b[38;5;241m=\u001b[39m joblib\u001b[38;5;241m.\u001b[39mload(\u001b[38;5;124mr\u001b[39m\u001b[38;5;124m'\u001b[39m\u001b[38;5;124mClassifier_Model/classifier_model.pkl\u001b[39m\u001b[38;5;124m'\u001b[39m)  \u001b[38;5;66;03m# Classification model\u001b[39;00m\n\u001b[0;32m      3\u001b[0m scaler \u001b[38;5;241m=\u001b[39m joblib\u001b[38;5;241m.\u001b[39mload(\u001b[38;5;124mr\u001b[39m\u001b[38;5;124m'\u001b[39m\u001b[38;5;124mScaler/scaler.pkl\u001b[39m\u001b[38;5;124m'\u001b[39m)  \u001b[38;5;66;03m# Scaler\u001b[39;00m\n",
      "File \u001b[1;32mc:\\Users\\muham\\AppData\\Local\\Programs\\Python\\Python312\\Lib\\site-packages\\joblib\\numpy_pickle.py:650\u001b[0m, in \u001b[0;36mload\u001b[1;34m(filename, mmap_mode)\u001b[0m\n\u001b[0;32m    648\u001b[0m         obj \u001b[38;5;241m=\u001b[39m _unpickle(fobj)\n\u001b[0;32m    649\u001b[0m \u001b[38;5;28;01melse\u001b[39;00m:\n\u001b[1;32m--> 650\u001b[0m     \u001b[38;5;28;01mwith\u001b[39;00m \u001b[38;5;28;43mopen\u001b[39;49m\u001b[43m(\u001b[49m\u001b[43mfilename\u001b[49m\u001b[43m,\u001b[49m\u001b[43m \u001b[49m\u001b[38;5;124;43m'\u001b[39;49m\u001b[38;5;124;43mrb\u001b[39;49m\u001b[38;5;124;43m'\u001b[39;49m\u001b[43m)\u001b[49m \u001b[38;5;28;01mas\u001b[39;00m f:\n\u001b[0;32m    651\u001b[0m         \u001b[38;5;28;01mwith\u001b[39;00m _read_fileobject(f, filename, mmap_mode) \u001b[38;5;28;01mas\u001b[39;00m fobj:\n\u001b[0;32m    652\u001b[0m             \u001b[38;5;28;01mif\u001b[39;00m \u001b[38;5;28misinstance\u001b[39m(fobj, \u001b[38;5;28mstr\u001b[39m):\n\u001b[0;32m    653\u001b[0m                 \u001b[38;5;66;03m# if the returned file object is a string, this means we\u001b[39;00m\n\u001b[0;32m    654\u001b[0m                 \u001b[38;5;66;03m# try to load a pickle file generated with an version of\u001b[39;00m\n\u001b[0;32m    655\u001b[0m                 \u001b[38;5;66;03m# Joblib so we load it with joblib compatibility function.\u001b[39;00m\n",
      "\u001b[1;31mFileNotFoundError\u001b[0m: [Errno 2] No such file or directory: 'Linear_reg_Model/linear_regressor_model.pkl'"
     ]
    }
   ],
   "source": [
    "ModelLr = joblib.load(r'Linear_reg_Model/linear_regressor_model.pkl')  # Linear regression model\n",
    "Modelclassifier = joblib.load(r'Classifier_Model/classifier_model.pkl')  # Classification model\n",
    "scaler = joblib.load(r'Scaler/scaler.pkl')  # Scaler\n",
    "label_encoders = joblib.load(r'Encoder/label_encoders.pkl') "
   ]
  },
  {
   "cell_type": "code",
   "execution_count": 11,
   "id": "dbddc73e-14bf-43ce-af7e-82a5009a2b9d",
   "metadata": {},
   "outputs": [
    {
     "name": "stdout",
     "output_type": "stream",
     "text": [
      "Enter the following details for AQI prediction:\n"
     ]
    },
    {
     "name": "stdout",
     "output_type": "stream",
     "text": [
      "CO AQI Value:  500\n",
      "Ozone AQI Value:  5000\n",
      "NO2 AQI Value:  700\n",
      "PM2.5 AQI Value:  600\n"
     ]
    }
   ],
   "source": [
    "print(\"Enter the following details for AQI prediction:\")\n",
    "CO_AQI_Value = float(input(\"CO AQI Value: \"))\n",
    "Ozone_AQI_Value = float(input(\"Ozone AQI Value: \"))\n",
    "NO2_AQI_Value = float(input(\"NO2 AQI Value: \"))\n",
    "PM25_AQI_Value = float(input(\"PM2.5 AQI Value: \"))"
   ]
  },
  {
   "cell_type": "code",
   "execution_count": 12,
   "id": "68ab2431-15ae-4754-93a2-0bdcef1c6bc7",
   "metadata": {},
   "outputs": [],
   "source": [
    "feature_names = ['CO_AQI_Value', 'Ozone_AQI_Value', 'NO2_AQI_Value', 'PM2.5_AQI_Value']\n",
    "user_input = pd.DataFrame([[CO_AQI_Value, Ozone_AQI_Value, NO2_AQI_Value, PM25_AQI_Value]], columns=feature_names)\n"
   ]
  },
  {
   "cell_type": "code",
   "execution_count": 13,
   "id": "9e202735-1728-4d06-a2d3-21e980e37a5d",
   "metadata": {},
   "outputs": [],
   "source": [
    "#Scale the Input\n",
    "user_input_scaled = scaler.transform(user_input)\n",
    "predicted_aqi_value = ModelLr.predict(user_input_scaled)\n",
    "predicted_aqi_category = Modelclassifier.predict(user_input_scaled)\n",
    "decoded_category = label_encoders['AQI_Category'].inverse_transform(predicted_aqi_category)"
   ]
  },
  {
   "cell_type": "code",
   "execution_count": 14,
   "id": "ff1a6453-1a6a-49a9-b601-ef58d10e6b2e",
   "metadata": {},
   "outputs": [
    {
     "name": "stdout",
     "output_type": "stream",
     "text": [
      "Predicted AQI Value: 1808.07\n",
      "Predicted AQI Category: Hazardous\n"
     ]
    }
   ],
   "source": [
    "print(f\"Predicted AQI Value: {predicted_aqi_value[0]:.2f}\")\n",
    "print(f\"Predicted AQI Category: {decoded_category[0]}\")"
   ]
  },
  {
   "cell_type": "code",
   "execution_count": null,
   "id": "3ce67bbf-31f9-45a6-9daa-feb33a98eeff",
   "metadata": {},
   "outputs": [],
   "source": []
  }
 ],
 "metadata": {
  "kernelspec": {
   "display_name": "Python 3",
   "language": "python",
   "name": "python3"
  },
  "language_info": {
   "codemirror_mode": {
    "name": "ipython",
    "version": 3
   },
   "file_extension": ".py",
   "mimetype": "text/x-python",
   "name": "python",
   "nbconvert_exporter": "python",
   "pygments_lexer": "ipython3",
   "version": "3.12.3"
  }
 },
 "nbformat": 4,
 "nbformat_minor": 5
}
